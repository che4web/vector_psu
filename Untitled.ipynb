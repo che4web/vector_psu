{
 "cells": [
  {
   "cell_type": "code",
   "execution_count": 1,
   "id": "4e1b974f-cfdd-4315-ad83-9459d37f139e",
   "metadata": {},
   "outputs": [],
   "source": [
    "class A:\n",
    "    def foo(slef):\n",
    "        print(\"I,am A\")"
   ]
  },
  {
   "cell_type": "code",
   "execution_count": 2,
   "id": "4d45b7c3-f2f7-4076-b31f-812fb5f997a3",
   "metadata": {},
   "outputs": [
    {
     "name": "stdout",
     "output_type": "stream",
     "text": [
      "I,am A\n"
     ]
    }
   ],
   "source": [
    "a = A()\n",
    "a.foo()"
   ]
  },
  {
   "cell_type": "code",
   "execution_count": 3,
   "id": "3ca08e20-cb77-4ee3-9da1-e03a3b47698c",
   "metadata": {},
   "outputs": [],
   "source": [
    "class B(A):\n",
    "    pass"
   ]
  },
  {
   "cell_type": "code",
   "execution_count": 4,
   "id": "14c03c46-9427-4112-b177-f6a336cf3100",
   "metadata": {},
   "outputs": [
    {
     "name": "stdout",
     "output_type": "stream",
     "text": [
      "I,am A\n"
     ]
    }
   ],
   "source": [
    "b = B()\n",
    "b.foo()"
   ]
  },
  {
   "cell_type": "code",
   "execution_count": 5,
   "id": "20adafab-b6eb-437c-b9f4-1ec8885dc9bc",
   "metadata": {},
   "outputs": [],
   "source": [
    "class C(A):\n",
    "    def foo(slef):\n",
    "        print(\"I am C\")"
   ]
  },
  {
   "cell_type": "code",
   "execution_count": 6,
   "id": "9ea901d9-860d-4257-b219-cccdde24ac67",
   "metadata": {},
   "outputs": [
    {
     "name": "stdout",
     "output_type": "stream",
     "text": [
      "I am C\n"
     ]
    }
   ],
   "source": [
    "c = C()\n",
    "c.foo()"
   ]
  },
  {
   "cell_type": "code",
   "execution_count": 9,
   "id": "53cf9af2-b1e6-430e-855d-aab61afc3cfc",
   "metadata": {},
   "outputs": [],
   "source": [
    "class C(A):\n",
    "    def foo(slef):\n",
    "        super(C,slef).foo()\n",
    "        print(\"I am C\")"
   ]
  },
  {
   "cell_type": "code",
   "execution_count": 10,
   "id": "6cf04bbb-ba78-40e8-94a6-82b88fbcf547",
   "metadata": {},
   "outputs": [
    {
     "name": "stdout",
     "output_type": "stream",
     "text": [
      "I,am A\n",
      "I am C\n"
     ]
    }
   ],
   "source": [
    "c = C()\n",
    "c.foo()"
   ]
  },
  {
   "cell_type": "code",
   "execution_count": 12,
   "id": "81d31c18-7ff9-40b7-bf90-130c5df28f5c",
   "metadata": {},
   "outputs": [
    {
     "data": {
      "text/plain": [
       "False"
      ]
     },
     "execution_count": 12,
     "metadata": {},
     "output_type": "execute_result"
    }
   ],
   "source": [
    "'12'>'2'"
   ]
  },
  {
   "cell_type": "code",
   "execution_count": 13,
   "id": "e0979c13-686f-4ead-b4a8-53d67cc3e78d",
   "metadata": {},
   "outputs": [
    {
     "data": {
      "text/plain": [
       "True"
      ]
     },
     "execution_count": 13,
     "metadata": {},
     "output_type": "execute_result"
    }
   ],
   "source": [
    "12>2"
   ]
  },
  {
   "cell_type": "code",
   "execution_count": null,
   "id": "12a2fc87-bee3-4c4b-a2aa-ccc368d5626a",
   "metadata": {},
   "outputs": [],
   "source": []
  }
 ],
 "metadata": {
  "kernelspec": {
   "display_name": "Python 3 (ipykernel)",
   "language": "python",
   "name": "python3"
  },
  "language_info": {
   "codemirror_mode": {
    "name": "ipython",
    "version": 3
   },
   "file_extension": ".py",
   "mimetype": "text/x-python",
   "name": "python",
   "nbconvert_exporter": "python",
   "pygments_lexer": "ipython3",
   "version": "3.11.6"
  }
 },
 "nbformat": 4,
 "nbformat_minor": 5
}
