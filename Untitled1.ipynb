{
 "cells": [
  {
   "cell_type": "code",
   "execution_count": 23,
   "id": "f2f8a70d-66ae-4eb7-b3f6-0f22454eca53",
   "metadata": {},
   "outputs": [],
   "source": [
    "def foo():\n",
    "    print(\"обычная функацтя\")"
   ]
  },
  {
   "cell_type": "code",
   "execution_count": 28,
   "id": "5c8497b4-002a-4725-bd20-e139414dad53",
   "metadata": {},
   "outputs": [],
   "source": [
    "def bar(some_f):\n",
    "    def f():\n",
    "        print(\"код до вызова\")\n",
    "        some_f()\n",
    "        print(\"код после выхова\")\n",
    "    return f"
   ]
  },
  {
   "cell_type": "code",
   "execution_count": 25,
   "id": "16a56fd4-9576-45a1-acdb-87add9cc047d",
   "metadata": {},
   "outputs": [],
   "source": [
    "def foo2():\n",
    "    print(\"Немножкао другой код\")"
   ]
  },
  {
   "cell_type": "code",
   "execution_count": 29,
   "id": "16605d50-2d90-410a-84a6-aa91a5e9aa4a",
   "metadata": {},
   "outputs": [],
   "source": [
    "foo = bar(foo)"
   ]
  },
  {
   "cell_type": "code",
   "execution_count": 34,
   "id": "1f99dbde-1983-4fc7-aa18-65d21fa47042",
   "metadata": {},
   "outputs": [],
   "source": [
    "@bar\n",
    "def foo3():\n",
    "    print(\"foo3\")"
   ]
  },
  {
   "cell_type": "code",
   "execution_count": 35,
   "id": "6cde1597-db33-4be1-be39-22c929b0028e",
   "metadata": {},
   "outputs": [
    {
     "name": "stdout",
     "output_type": "stream",
     "text": [
      "код до вызова\n",
      "foo3\n",
      "код после выхова\n"
     ]
    }
   ],
   "source": [
    "foo3()"
   ]
  },
  {
   "cell_type": "code",
   "execution_count": 30,
   "id": "26a4574b-6524-4f82-9ca3-766c9bcda3ea",
   "metadata": {},
   "outputs": [
    {
     "name": "stdout",
     "output_type": "stream",
     "text": [
      "код до вызова\n",
      "обычная функацтя\n",
      "код после выхова\n"
     ]
    }
   ],
   "source": [
    "foo_decor()"
   ]
  },
  {
   "cell_type": "code",
   "execution_count": 27,
   "id": "b6720ee2-c42e-49b3-81bd-5f5317546865",
   "metadata": {},
   "outputs": [
    {
     "name": "stdout",
     "output_type": "stream",
     "text": [
      "код до вызова\n",
      "Немножкао другой код\n",
      "код после выхова\n"
     ]
    }
   ],
   "source": [
    "bar(foo2)"
   ]
  },
  {
   "cell_type": "code",
   "execution_count": 6,
   "id": "d0290d82-7746-44b1-a822-d8484d62b37e",
   "metadata": {},
   "outputs": [],
   "source": [
    "a = bar"
   ]
  },
  {
   "cell_type": "code",
   "execution_count": 9,
   "id": "e80130c3-eeeb-4845-8642-874c3b8ec033",
   "metadata": {},
   "outputs": [
    {
     "name": "stdout",
     "output_type": "stream",
     "text": [
      "prinf from bar: hellp\n",
      "None\n"
     ]
    }
   ],
   "source": [
    "foo(a)\n"
   ]
  },
  {
   "cell_type": "code",
   "execution_count": null,
   "id": "01dfe06d-2c65-462d-8718-f71dd9fed2c4",
   "metadata": {},
   "outputs": [],
   "source": []
  }
 ],
 "metadata": {
  "kernelspec": {
   "display_name": "Python 3 (ipykernel)",
   "language": "python",
   "name": "python3"
  },
  "language_info": {
   "codemirror_mode": {
    "name": "ipython",
    "version": 3
   },
   "file_extension": ".py",
   "mimetype": "text/x-python",
   "name": "python",
   "nbconvert_exporter": "python",
   "pygments_lexer": "ipython3",
   "version": "3.11.6"
  }
 },
 "nbformat": 4,
 "nbformat_minor": 5
}
